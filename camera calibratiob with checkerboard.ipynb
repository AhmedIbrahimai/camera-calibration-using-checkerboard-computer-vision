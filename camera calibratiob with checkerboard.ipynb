{
 "cells": [
  {
   "cell_type": "code",
   "execution_count": 1,
   "id": "56c4fb52-00de-437b-bc84-5fde0991266b",
   "metadata": {},
   "outputs": [
    {
     "data": {
      "text/plain": [
       "'C:\\\\Users\\\\amb'"
      ]
     },
     "execution_count": 1,
     "metadata": {},
     "output_type": "execute_result"
    }
   ],
   "source": [
    "pwd"
   ]
  },
  {
   "cell_type": "code",
   "execution_count": null,
   "id": "30a08f0d-fd47-4798-a1e5-ad70a0a29e1b",
   "metadata": {},
   "outputs": [],
   "source": [
    "import cv2\n",
    "import numpy as np\n",
    "\n",
    "# Function to generate and save an 8x8 checkerboard pattern\n",
    "def save_checkerboard_image(filename, square_size_cm):\n",
    "    rows, cols = 8, 8\n",
    "    pixels_per_cm = 100  # Adjust this based on your printing resolution\n",
    "\n",
    "    square_size_px = int(square_size_cm * pixels_per_cm)\n",
    "    pattern = np.zeros((rows * square_size_px, cols * square_size_px), dtype=np.uint8) # 8 squrares x 200\n",
    "\n",
    "    for i in range(0, rows, 2): #from 0 to 6\n",
    "        for j in range(0, cols, 2):\n",
    "            pattern[i * square_size_px: (i + 1) * square_size_px, j * square_size_px: (j + 1) * square_size_px] = 255\n",
    "\n",
    "    for i in range(1, rows, 2): # from 1 to 7\n",
    "        for j in range(1, cols, 2):\n",
    "            pattern[i * square_size_px: (i + 1) * square_size_px, j * square_size_px: (j + 1) * square_size_px] = 255\n",
    "\n",
    "    cv2.imwrite(filename, pattern)\n",
    "    print(f\"Checkerboard pattern saved to: {filename}\")\n",
    "\n",
    "# Save the checkerboard pattern as an image file with 2 cm squares\n",
    "save_checkerboard_image(\"checkerboard_pattern_8x8.png\", square_size_cm=2)\n"
   ]
  },
  {
   "cell_type": "code",
   "execution_count": null,
   "id": "9e8b7345-b3ef-4980-9877-d42cf39ae3ee",
   "metadata": {},
   "outputs": [],
   "source": [
    "import cv2 as cv\n",
    "import os\n",
    "\n",
    "CHESS_BOARD_DIM = (7, 7)\n",
    "\n",
    "n = 0  # image_counter\n",
    "\n",
    "# checking if  images dir is exist not, if not then create images directory\n",
    "image_dir_path = \"images\"\n",
    "\n",
    "CHECK_DIR = os.path.isdir(image_dir_path)\n",
    "# if directory does not exist create\n",
    "if not CHECK_DIR:\n",
    "    os.makedirs(image_dir_path)\n",
    "    print(f'\"{image_dir_path}\" Directory is created')\n",
    "else:\n",
    "    print(f'\"{image_dir_path}\" Directory already Exists.')\n",
    "\n",
    "criteria = (cv.TERM_CRITERIA_EPS + cv.TERM_CRITERIA_MAX_ITER, 30, 0.001)\n",
    "\n",
    "\n",
    "def detect_checker_board(image, grayImage, criteria, boardDimension):\n",
    "    ret, corners = cv.findChessboardCorners(grayImage, boardDimension)\n",
    "    if ret == True:\n",
    "        corners1 = cv.cornerSubPix(grayImage, corners, (3, 3), (-1, -1), criteria)\n",
    "        image = cv.drawChessboardCorners(image, boardDimension, corners1, ret)\n",
    "\n",
    "    return image, ret\n",
    "\n",
    "\n",
    "cap = cv.VideoCapture(0)\n",
    "\n",
    "while True:\n",
    "    _, frame = cap.read()\n",
    "    copyFrame = frame.copy()\n",
    "    gray = cv.cvtColor(frame, cv.COLOR_BGR2GRAY)\n",
    "\n",
    "    image, board_detected = detect_checker_board(frame, gray, criteria, CHESS_BOARD_DIM)\n",
    "    # print(ret)\n",
    "    cv.putText(frame,f\"saved_img : {n}\",(30, 40),cv.FONT_HERSHEY_PLAIN,1.4,(0, 255, 0),2,cv.LINE_AA,)\n",
    "\n",
    "    cv.imshow(\"frame\", frame)\n",
    "    cv.imshow(\"copyFrame\", copyFrame)\n",
    "\n",
    "    key = cv.waitKey(1)\n",
    "\n",
    "    if key == ord(\"q\"):\n",
    "        break\n",
    "    if key == ord(\"s\") and board_detected == True:\n",
    "        # storing the checker board image\n",
    "        cv.imwrite(f\"{image_dir_path}/image{n}.png\", copyFrame)\n",
    "\n",
    "        print(f\"saved image number {n}\")\n",
    "        n += 1  # incrementing the image counter\n",
    "cap.release()\n",
    "cv.destroyAllWindows()\n",
    "\n",
    "print(\"Total saved Images:\", n)"
   ]
  }
 ],
 "metadata": {
  "kernelspec": {
   "display_name": "Python 3 (ipykernel)",
   "language": "python",
   "name": "python3"
  },
  "language_info": {
   "codemirror_mode": {
    "name": "ipython",
    "version": 3
   },
   "file_extension": ".py",
   "mimetype": "text/x-python",
   "name": "python",
   "nbconvert_exporter": "python",
   "pygments_lexer": "ipython3",
   "version": "3.11.7"
  }
 },
 "nbformat": 4,
 "nbformat_minor": 5
}
